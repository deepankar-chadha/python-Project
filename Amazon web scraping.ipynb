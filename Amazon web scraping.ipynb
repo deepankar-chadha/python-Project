{
 "cells": [
  {
   "cell_type": "code",
   "execution_count": null,
   "id": "4c9e4013-f424-42ce-87d4-dabe84adf477",
   "metadata": {},
   "outputs": [],
   "source": [
    "from bs4 import BeautifulSoup\n",
    "import requests\n",
    "import time\n",
    "import datetime\n",
    "import smtplib"
   ]
  },
  {
   "cell_type": "code",
   "execution_count": null,
   "id": "96a74148-e55a-4968-a820-185daa607ff7",
   "metadata": {},
   "outputs": [],
   "source": [
    "url = 'https://www.amazon.in/APSRA-TRADER-Business-Accountant-Finance/dp/B0DSTDBNMY/ref=sr_1_8?crid=336LD6R68HF3F&dib=eyJ2IjoiMSJ9.swzRahqBJEbRwM4kWFJmJLLZkknPeYKgO0isEcKKnAjc8UkOaf1JLDUPQw0UxFnphqRGeBkmbbv1lbg6Fvopn-5fl4Ubv5hhyQFSqY7zHHLXd3yAMy-5I-eh1mnjzH1hTuaZt8QjGgZ8UyvfNQ0AAtIOPAVH3pT9puRDUhist6GsukTHOTC1f7j5VzK5dzyfRr2SBazhyhLzhSLTBQFfzNib87373mGQJTGYwUR5u1FLROCuEUCtFFWH7bIhcO2oPMlWgwJ3FJXjcvcPWoc1Y3l7UOD9do5ug9iOp_qoAY7wgeX_MPuiPW4ummCXfeKbpPd6Hzc7A9q_6_uBG9dx5dPSU0bo9_o1VKAfkISXPr3JCQiAEOHySULvfvnCasUx8ke5rqqCfW5E7Gqt6MfW4VXgdIoiNfQGxWbwONDEcIZaMOmul_OvVFu2yANG3GOi.B3iks20ye3cshyd36KxzR1gHHp54_d7f0WGKScJmyZM&dib_tag=se&keywords=funny+got+data+mis+data+systems+business+analyst+t+shirt&nsdOptOutParam=true&qid=1739596954&sprefix=funny+data+analyst+t%2Caps%2C288&sr=8-8'\n",
    "\n",
    "headers = {\"User-Agent\": \"Mozilla/5.0 (Windows NT 10.0; Win64; x64) AppleWebKit/537.36 (KHTML, like Gecko) Chrome/78.0.3904.108 Safari/537.36\", \"Accept-Encoding\":\"gzip, deflate\", \"Accept\":\"text/html,application/xhtml+xml,application/xml;q=0.9,*/*;q=0.8\", \"DNT\":\"1\",\"Connection\":\"close\", \"Upgrade-Insecure-Requests\":\"1\"}\n",
    "\n",
    "page = requests.get(url, headers=headers)\n",
    "\n",
    "soup1 = BeautifulSoup(page.content, \"html.parser\")\n",
    "\n",
    "soup2 = BeautifulSoup(soup1.prettify(), \"html.parser\")\n",
    "\n",
    "title = soup2.find(id='productTitle').get_text()\n",
    "\n",
    "price_symbol = soup2.find(class_='a-price-symbol').get_text(strip=True)\n",
    "price_whole = soup2.find(class_='a-price-whole').get_text(strip=True)\n",
    "price = f'{price_symbol}{price_whole}'\n",
    "\n",
    "print(title)\n",
    "print(price)\n",
    "\n",
    "\n",
    "\n",
    "\n",
    "\n",
    "\n"
   ]
  },
  {
   "cell_type": "code",
   "execution_count": null,
   "id": "761d8f60-6c7d-4717-bdd0-38ed6391f81c",
   "metadata": {},
   "outputs": [],
   "source": [
    "title = title.strip()\n"
   ]
  },
  {
   "cell_type": "code",
   "execution_count": null,
   "id": "03e4fd95-fc0d-4de1-b048-22b13fd1a37b",
   "metadata": {},
   "outputs": [],
   "source": [
    "price = price.strip()[1:]"
   ]
  },
  {
   "cell_type": "code",
   "execution_count": null,
   "id": "c8bef79b-a492-45d3-9cdf-9689fb31da1e",
   "metadata": {},
   "outputs": [],
   "source": [
    "print(title)\n",
    "print(price)"
   ]
  },
  {
   "cell_type": "code",
   "execution_count": null,
   "id": "9e76e34f-ba00-4f22-a142-a1673ad0f719",
   "metadata": {},
   "outputs": [],
   "source": []
  },
  {
   "cell_type": "code",
   "execution_count": null,
   "id": "9c1df77e-8413-46d1-8d7a-6fcb582cac76",
   "metadata": {},
   "outputs": [],
   "source": [
    "! pip install datetime"
   ]
  },
  {
   "cell_type": "code",
   "execution_count": null,
   "id": "9dd47faf-a15a-434a-b8dd-4a6e56ff4b20",
   "metadata": {},
   "outputs": [],
   "source": [
    "import datetime\n",
    "today = datetime.date.today()\n",
    "Today = today.strftime('%d-%m-%Y')\n",
    "print(Today)"
   ]
  },
  {
   "cell_type": "code",
   "execution_count": null,
   "id": "0b72c65d-d228-4a98-b471-867aefe7ee4d",
   "metadata": {},
   "outputs": [],
   "source": []
  },
  {
   "cell_type": "code",
   "execution_count": null,
   "id": "ff6a3a51-e406-4820-8f1e-7b6885b97a29",
   "metadata": {},
   "outputs": [],
   "source": []
  },
  {
   "cell_type": "code",
   "execution_count": null,
   "id": "c8776f01-b081-47e8-ae4b-3274170f19ad",
   "metadata": {},
   "outputs": [],
   "source": []
  },
  {
   "cell_type": "code",
   "execution_count": null,
   "id": "526b4be7-4823-4d66-8ced-e7a7b4479ed8",
   "metadata": {},
   "outputs": [],
   "source": [
    "import csv\n",
    "header = ['Title', 'Price', 'Date']\n",
    "data = [title, price, Today]\n",
    "# with open('AmazonWebScraperDataset.csv', 'w', newline='', encoding = 'UTF8') as f:\n",
    "   #  writer=csv.writer(f)\n",
    "    # writer.writerow(header)\n",
    "    # writer.writerow(data)"
   ]
  },
  {
   "cell_type": "code",
   "execution_count": null,
   "id": "c10b5e80-eb4a-430c-aad1-40ceca98e586",
   "metadata": {},
   "outputs": [],
   "source": []
  },
  {
   "cell_type": "code",
   "execution_count": null,
   "id": "2b2ada0d-896a-4206-bfd8-9601b13db206",
   "metadata": {},
   "outputs": [],
   "source": []
  },
  {
   "cell_type": "code",
   "execution_count": null,
   "id": "2fa5ad37-1af4-4f39-ae36-f286f58d8ab0",
   "metadata": {},
   "outputs": [],
   "source": []
  },
  {
   "cell_type": "code",
   "execution_count": null,
   "id": "7ebf9acd-b093-4c35-a606-7e3e218f0406",
   "metadata": {},
   "outputs": [],
   "source": []
  },
  {
   "cell_type": "code",
   "execution_count": null,
   "id": "18d5bd02-626b-41d2-8dc5-b4da6228dc45",
   "metadata": {},
   "outputs": [],
   "source": []
  },
  {
   "cell_type": "code",
   "execution_count": null,
   "id": "966f9bde-9aec-4c56-8d9c-eb0dd5d85515",
   "metadata": {},
   "outputs": [],
   "source": []
  },
  {
   "cell_type": "code",
   "execution_count": null,
   "id": "e8299ff6-c5f9-41bc-8a28-eeda4ec87f6b",
   "metadata": {},
   "outputs": [],
   "source": [
    "with open('AmazonWebScraperDataset.csv', 'a+', newline='', encoding = 'UTF8') as f:\n",
    "    writer=csv.writer(f)\n",
    "    writer.writerow(data)"
   ]
  },
  {
   "cell_type": "code",
   "execution_count": null,
   "id": "7e9ff497-d9ed-44c2-8c53-cfe1259365a0",
   "metadata": {},
   "outputs": [],
   "source": [
    "\n",
    "import pandas as pd\n",
    "df = pd.read_csv(r'C:\\Users\\laptop\\AmazonWebScraperDataset.csv')\n",
    "print(df)"
   ]
  },
  {
   "cell_type": "code",
   "execution_count": null,
   "id": "bc590403-b4fa-4d3f-8742-2a86aef6f798",
   "metadata": {},
   "outputs": [],
   "source": [
    "def check_price():\n",
    "    url = 'https://www.amazon.in/APSRA-TRADER-Business-Accountant-Finance/dp/B0DSTDBNMY/ref=sr_1_8?crid=336LD6R68HF3F&dib=eyJ2IjoiMSJ9.swzRahqBJEbRwM4kWFJmJLLZkknPeYKgO0isEcKKnAjc8UkOaf1JLDUPQw0UxFnphqRGeBkmbbv1lbg6Fvopn-5fl4Ubv5hhyQFSqY7zHHLXd3yAMy-5I-eh1mnjzH1hTuaZt8QjGgZ8UyvfNQ0AAtIOPAVH3pT9puRDUhist6GsukTHOTC1f7j5VzK5dzyfRr2SBazhyhLzhSLTBQFfzNib87373mGQJTGYwUR5u1FLROCuEUCtFFWH7bIhcO2oPMlWgwJ3FJXjcvcPWoc1Y3l7UOD9do5ug9iOp_qoAY7wgeX_MPuiPW4ummCXfeKbpPd6Hzc7A9q_6_uBG9dx5dPSU0bo9_o1VKAfkISXPr3JCQiAEOHySULvfvnCasUx8ke5rqqCfW5E7Gqt6MfW4VXgdIoiNfQGxWbwONDEcIZaMOmul_OvVFu2yANG3GOi.B3iks20ye3cshyd36KxzR1gHHp54_d7f0WGKScJmyZM&dib_tag=se&keywords=funny+got+data+mis+data+systems+business+analyst+t+shirt&nsdOptOutParam=true&qid=1739596954&sprefix=funny+data+analyst+t%2Caps%2C288&sr=8-8'\n",
    "\n",
    "    headers = {\"User-Agent\": \"Mozilla/5.0 (Windows NT 10.0; Win64; x64) AppleWebKit/537.36 (KHTML, like Gecko) Chrome/78.0.3904.108 Safari/537.36\", \"Accept-Encoding\":\"gzip, deflate\", \"Accept\":\"text/html,application/xhtml+xml,application/xml;q=0.9,*/*;q=0.8\", \"DNT\":\"1\",\"Connection\":\"close\", \"Upgrade-Insecure-Requests\":\"1\"}\n",
    "\n",
    "    page = requests.get(url, headers=headers)\n",
    "\n",
    "    soup1 = BeautifulSoup(page.content, \"html.parser\")\n",
    "\n",
    "    soup2 = BeautifulSoup(soup1.prettify(), \"html.parser\")\n",
    "\n",
    "    title = soup2.find(id='productTitle').get_text()\n",
    "\n",
    "    price_symbol = soup2.find(class_='a-price-symbol').get_text(strip=True)\n",
    "    price_whole = soup2.find(class_='a-price-whole').get_text(strip=True)\n",
    "    price = f'{price_symbol}{price_whole}'\n",
    "\n",
    "    price = price.strip()[1:]\n",
    "    title = title.strip()\n",
    "    import datetime\n",
    "    today = datetime.date.today()\n",
    "    Today = today.strftime('%d-%m-%Y')\n",
    "    import csv\n",
    "    header = ['Title', 'Price', 'Date']\n",
    "    data = [title, price, Today]\n",
    "    with open('AmazonWebScraperDataset.csv', 'a+', newline='', encoding = 'UTF8') as f:\n",
    "        writer=csv.writer(f)\n",
    "        writer.writerow(data)\n",
    "  "
   ]
  },
  {
   "cell_type": "code",
   "execution_count": null,
   "id": "bd392438-e0e6-44c1-8e12-601895ff0b2f",
   "metadata": {},
   "outputs": [],
   "source": [
    "while(True):\n",
    "    check_price()\n",
    "    time.sleep(300)"
   ]
  },
  {
   "cell_type": "code",
   "execution_count": null,
   "id": "a9a98abe-e91d-42f6-9efc-bb4107d4e7ba",
   "metadata": {},
   "outputs": [],
   "source": []
  },
  {
   "cell_type": "code",
   "execution_count": null,
   "id": "a4d620ca-0cd8-4ed0-9282-5972ed534c7c",
   "metadata": {},
   "outputs": [],
   "source": []
  },
  {
   "cell_type": "code",
   "execution_count": null,
   "id": "3a14e88a-c704-4b3d-9e08-ea53b02cfdb3",
   "metadata": {},
   "outputs": [],
   "source": [
    "import pandas as pd\n",
    "\n",
    "df = pd.read_csv(r'C:\\Users\\laptop\\AmazonWebScraperDataset.csv')\n",
    "\n",
    "print(df)"
   ]
  },
  {
   "cell_type": "code",
   "execution_count": null,
   "id": "17f24102-2585-4453-90f4-c5248dc1baf1",
   "metadata": {},
   "outputs": [],
   "source": [
    "def send_mail():\n",
    "    server = smtplib.SMTP_SSL('smtp.gmail.com',465)\n",
    "    server.ehlo()\n",
    "    #server.starttls()\n",
    "    server.ehlo()\n",
    "    server.login('deepu.cancer21jun@gmail.com','xxxxxxxxxxxxxx')\n",
    "    \n",
    "    subject = \"The Shirt you want is below rs378! Now is your chance to buy!\"\n",
    "    body = 'Deepankar, This is the moment we have been waiting for. Now is your chance to pick up the shirt of your dreams. Don't mess it up! Link here: https://www.amazon.in/APSRA-TRADER-Business-Accountant-Finance/dp/B0DSTDBNMY/ref=sr_1_8?crid=336LD6R68HF3F&dib=eyJ2IjoiMSJ9.swzRahqBJEbRwM4kWFJmJLLZkknPeYKgO0isEcKKnAjc8UkOaf1JLDUPQw0UxFnphqRGeBkmbbv1lbg6Fvopn-5fl4Ubv5hhyQFSqY7zHHLXd3yAMy-5I-eh1mnjzH1hTuaZt8QjGgZ8UyvfNQ0AAtIOPAVH3pT9puRDUhist6GsukTHOTC1f7j5VzK5dzyfRr2SBazhyhLzhSLTBQFfzNib87373mGQJTGYwUR5u1FLROCuEUCtFFWH7bIhcO2oPMlWgwJ3FJXjcvcPWoc1Y3l7UOD9do5ug9iOp_qoAY7wgeX_MPuiPW4ummCXfeKbpPd6Hzc7A9q_6_uBG9dx5dPSU0bo9_o1VKAfkISXPr3JCQiAEOHySULvfvnCasUx8ke5rqqCfW5E7Gqt6MfW4VXgdIoiNfQGxWbwONDEcIZaMOmul_OvVFu2yANG3GOi.B3iks20ye3cshyd36KxzR1gHHp54_d7f0WGKScJmyZM&dib_tag=se&keywords=funny+got+data+mis+data+systems+business+analyst+t+shirt&nsdOptOutParam=true&qid=1739596954&sprefix=funny+data+analyst+t%2Caps%2C288&sr=8-8'\n",
    "\n",
    "   \n",
    "    msg = f\"Subject: {subject}\\n\\n{body}\"\n",
    "    \n",
    "    server.sendmail(\n",
    "        'deepu.cancer21jun@gmail.com',\n",
    "        msg"
   ]
  },
  {
   "cell_type": "code",
   "execution_count": null,
   "id": "10d8f788-6bcc-477f-8ccb-66218dfcb80c",
   "metadata": {},
   "outputs": [],
   "source": []
  },
  {
   "cell_type": "code",
   "execution_count": null,
   "id": "67564774-8a31-43ce-a789-756b56333469",
   "metadata": {},
   "outputs": [],
   "source": []
  },
  {
   "cell_type": "code",
   "execution_count": null,
   "id": "6f29cad4-50cb-4bf4-8e79-d96c711849f2",
   "metadata": {},
   "outputs": [],
   "source": []
  },
  {
   "cell_type": "code",
   "execution_count": null,
   "id": "bb00a200-f963-427c-9b26-6a9a38ea05e7",
   "metadata": {},
   "outputs": [],
   "source": []
  }
 ],
 "metadata": {
  "kernelspec": {
   "display_name": "Python [conda env:base] *",
   "language": "python",
   "name": "conda-base-py"
  },
  "language_info": {
   "codemirror_mode": {
    "name": "ipython",
    "version": 3
   },
   "file_extension": ".py",
   "mimetype": "text/x-python",
   "name": "python",
   "nbconvert_exporter": "python",
   "pygments_lexer": "ipython3",
   "version": "3.12.7"
  }
 },
 "nbformat": 4,
 "nbformat_minor": 5
}
